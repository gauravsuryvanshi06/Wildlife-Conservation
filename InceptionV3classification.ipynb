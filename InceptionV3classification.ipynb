{
  "cells": [
    {
      "cell_type": "code",
      "execution_count": null,
      "metadata": {
        "id": "HKMjD2noOvGW"
      },
      "outputs": [],
      "source": [
        "import matplotlib.pyplot as plt\n",
        "import tensorflow as tf\n",
        "from tensorflow.keras.applications.inception_v3 import InceptionV3\n",
        "from tensorflow.keras.preprocessing.image import ImageDataGenerator\n",
        "from tensorflow.keras.layers import Dense, GlobalAveragePooling2D\n",
        "from tensorflow.keras.models import Model\n",
        "from tensorflow.keras.optimizers import Adam"
      ]
    },
    {
      "cell_type": "code",
      "execution_count": null,
      "metadata": {
        "id": "339PTSPsSt31"
      },
      "outputs": [],
      "source": [
        "train_dir = '/content/drive/MyDrive/DATA/train'\n",
        "validation_dir = '/content/drive/MyDrive/DATA/validation'"
      ]
    },
    {
      "cell_type": "code",
      "execution_count": null,
      "metadata": {
        "id": "MS3Nf6XSSt6L"
      },
      "outputs": [],
      "source": [
        "num_classes = 92\n",
        "image_size = (299,299)\n",
        "batch_size = 64  ## 32\n",
        "learning_rate = 0.001\n",
        "epochs = 5"
      ]
    },
    {
      "cell_type": "code",
      "execution_count": null,
      "metadata": {
        "id": "ldwy1uT6St9r"
      },
      "outputs": [],
      "source": [
        "train_datagen = ImageDataGenerator(\n",
        "    rescale = 1./255,\n",
        "    shear_range = 0.2,\n",
        "    zoom_range = 0.2,\n",
        "    horizontal_flip = True\n",
        ")"
      ]
    },
    {
      "cell_type": "code",
      "execution_count": null,
      "metadata": {
        "id": "oUAIQ8qXUuri"
      },
      "outputs": [],
      "source": [
        "valid_datagen = ImageDataGenerator(\n",
        "    rescale=1./255\n",
        ")"
      ]
    },
    {
      "cell_type": "code",
      "execution_count": null,
      "metadata": {
        "id": "WIYvEEwOUuuX"
      },
      "outputs": [],
      "source": [
        "base_model = InceptionV3(weights = 'imagenet', include_top =False, input_shape = (image_size[0], image_size[1],3))"
      ]
    },
    {
      "cell_type": "code",
      "execution_count": null,
      "metadata": {
        "id": "JqNFSgNoUuxA"
      },
      "outputs": [],
      "source": [
        "x  = base_model.output\n",
        "x = GlobalAveragePooling2D()(x)\n",
        "x  = Dense(1024, activation='relu')(x)\n",
        "prediction = Dense(num_classes, activation = 'softmax')(x)\n"
      ]
    },
    {
      "cell_type": "code",
      "execution_count": null,
      "metadata": {
        "id": "7vJRBfgDUu0i"
      },
      "outputs": [],
      "source": [
        "model = Model(inputs = base_model.input, outputs = prediction)"
      ]
    },
    {
      "cell_type": "code",
      "execution_count": null,
      "metadata": {
        "id": "ocYKqOdCWAUq"
      },
      "outputs": [],
      "source": [
        "for layer in base_model.layers:\n",
        "  layer.trainable =False\n"
      ]
    },
    {
      "cell_type": "code",
      "execution_count": null,
      "metadata": {
        "id": "kXSj4StdWAXL"
      },
      "outputs": [],
      "source": [
        "model.compile(optimizer = Adam(learning_rate = learning_rate), loss='categorical_crossentropy',metrics = ['accuracy'] )"
      ]
    },
    {
      "cell_type": "code",
      "execution_count": null,
      "metadata": {
        "colab": {
          "base_uri": "https://localhost:8080/"
        },
        "id": "UGVoja8LWAau",
        "outputId": "f24057d1-ac1c-4b4b-c168-055490cebe7b"
      },
      "outputs": [
        {
          "name": "stdout",
          "output_type": "stream",
          "text": [
            "Found 4355 images belonging to 92 classes.\n",
            "Found 1094 images belonging to 92 classes.\n"
          ]
        }
      ],
      "source": [
        "train_generator = train_datagen.flow_from_directory(\n",
        "    train_dir,\n",
        "    target_size = image_size,\n",
        "    batch_size = batch_size,\n",
        "    class_mode = 'categorical'\n",
        ")\n",
        "\n",
        "valid_generator = valid_datagen.flow_from_directory(\n",
        "    validation_dir,\n",
        "    target_size = image_size,\n",
        "    batch_size = batch_size,\n",
        "    class_mode = 'categorical'\n",
        ")"
      ]
    },
    {
      "cell_type": "code",
      "execution_count": null,
      "metadata": {
        "colab": {
          "background_save": true,
          "base_uri": "https://localhost:8080/"
        },
        "id": "FaB2pjIxWAhN",
        "outputId": "b4e6c1ef-4d93-4275-b421-186ee7aa68bd"
      },
      "outputs": [
        {
          "name": "stdout",
          "output_type": "stream",
          "text": [
            "Epoch 1/5\n",
            "68/68 [==============================] - 1487s 22s/step - loss: 0.1160 - accuracy: 0.9685 - val_loss: 0.5912 - val_accuracy: 0.8392\n",
            "Epoch 2/5\n",
            "68/68 [==============================] - 1445s 21s/step - loss: 0.1980 - accuracy: 0.9464 - val_loss: 0.3694 - val_accuracy: 0.8915\n",
            "Epoch 3/5\n",
            "36/68 [==============>...............] - ETA: 9:09 - loss: 0.0836 - accuracy: 0.9774"
          ]
        }
      ],
      "source": [
        "history = model.fit(\n",
        "    train_generator,\n",
        "    steps_per_epoch=train_generator.n // batch_size,\n",
        "    epochs=epochs,\n",
        "    validation_data=valid_generator,\n",
        "    validation_steps=valid_generator.n // batch_size\n",
        ")"
      ]
    },
    {
      "cell_type": "code",
      "execution_count": null,
      "metadata": {
        "id": "8CCMs9VUWAjx"
      },
      "outputs": [],
      "source": [
        "model.save('/content/drive/MyDrive/inceptionV3_model.h5')"
      ]
    },
    {
      "cell_type": "code",
      "execution_count": null,
      "metadata": {
        "id": "Gb6l2q4_WAoC"
      },
      "outputs": [],
      "source": []
    }
  ],
  "metadata": {
    "colab": {
      "provenance": []
    },
    "kernelspec": {
      "display_name": "Python 3",
      "name": "python3"
    },
    "language_info": {
      "name": "python"
    }
  },
  "nbformat": 4,
  "nbformat_minor": 0
}